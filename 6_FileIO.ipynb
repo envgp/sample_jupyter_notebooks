{
 "cells": [
  {
   "cell_type": "code",
   "execution_count": null,
   "metadata": {},
   "outputs": [],
   "source": [
    "import numpy as np\n",
    "import datetime as dt"
   ]
  },
  {
   "cell_type": "markdown",
   "metadata": {},
   "source": [
    "# Assignment #4: File Input/Output\n",
    "----\n",
    "____\n",
    "\n",
    "### Name:                                                  $\\hspace{2.75in}$  Due: February 2, 2018 before 1pm\n",
    "                        \n",
    "\n",
    "The purpose of this assignment is to get you comfortable with acquiring data and writing short python scripts to input and output that data. **Note: all of your work must be reproducible. Your Jupyter notebook will be ran by the grader. **\n",
    "\n",
    "**Please pay attention to the filing naming conventions we request throughout the notebook.  You will lose points for files or submissions that are incorrectly named.**"
   ]
  },
  {
   "cell_type": "markdown",
   "metadata": {},
   "source": [
    "# Problem 1: Finding Data\n",
    "---\n",
    "Find a set of climate data that you are interested in. Make sure that there is enough data. You should be working with no less than **200** data points and it should be a [time series](https://en.wikipedia.org/wiki/Time_series). \n",
    "You should find your data from one of the following sites:\n",
    "- [NOAA](https://www.ncdc.noaa.gov/cdo-web/search?datasetid=GHCND)\n",
    "- [DATA.GOV](https://www.data.gov/climate/)\n",
    "- [NSIDC](https://nsidc.org/data)\n",
    "\n",
    "Download the data and put it in the same directory as this Jupyter notebook. For clarity tack *_raw* onto the end of the file name to denote that the data is unedited (for example, *climate_data_raw.txt*).\n",
    "\n",
    "**Note: In the following assignment we will work on fitting trends to the data you collect here. Make sure that you find something both interesting and challenging.**\n",
    "\n",
    "<u>Paste the link to your data source here:</u>"
   ]
  },
  {
   "cell_type": "markdown",
   "metadata": {},
   "source": [
    "# Problem 2: Preparing Data\n",
    "---\n",
    "The data you have collected may include a header or be ill formatted for use right off the bat. Make a copy of the data you collected and do any editing in VIM that is necessary. For clarity tack *_edited* onto the end of the file name to denote that the data is edited. \n",
    "\n",
    "<u>If your data file does not require editing, type \"No edit\" here:</u>"
   ]
  },
  {
   "cell_type": "markdown",
   "metadata": {},
   "source": [
    "# Problem 3: File Input\n",
    "---\n",
    "Input the file and assign the data to numpy arrays. These arrays should be as useful as possible. For example:\n",
    "- If your file includes dates as strings, they should be in an array as datetime objects.\n",
    "- Arrays of numbers should be in arrays of float or int datatypes.\n",
    "\n",
    "After assigning the data to arrays, print out:\n",
    "- the contents of each array\n",
    "- the [shape](https://docs.scipy.org/doc/numpy-1.13.0/reference/generated/numpy.ndarray.shape.html) of each array\n",
    "- the type of each array\n",
    "\n",
    "**Since you will be using this data next week, it would be beneficial to write [functions](https://www.tutorialspoint.com/python/python_functions.htm) that you can reuse.**"
   ]
  },
  {
   "cell_type": "code",
   "execution_count": null,
   "metadata": {},
   "outputs": [],
   "source": [
    "### Problem 3 Code Here:\n"
   ]
  },
  {
   "cell_type": "markdown",
   "metadata": {},
   "source": [
    "# Problem 4: File Output\n",
    "---\n",
    "Output your new data in as a .txt file. The header of your text file should be made up of header and comments that includes: **your name, the date, a useful description of the data (in your own words), the credits/source of the data**. The data should be formatted as comma or tab seperated columns. If the raw data you collected contained timestamps, make sure to include them in your output files. For clarity tack *_output* onto the end of the file names. \n",
    "\n"
   ]
  },
  {
   "cell_type": "code",
   "execution_count": null,
   "metadata": {},
   "outputs": [],
   "source": [
    "### Problem 4 Text File Code Here:\n"
   ]
  },
  {
   "cell_type": "markdown",
   "metadata": {},
   "source": [
    "# Problem 5: Short Answer\n",
    "---\n",
    "Answer the following questions:\n",
    "1. Why did you choose the data set that you did?\n",
    "2. What problems did you run into with file input and how did you solve them?\n",
    "3. What problems did you run into with file output and how did you solve them?"
   ]
  }
 ],
 "metadata": {
  "kernelspec": {
   "display_name": "Python 3",
   "language": "python",
   "name": "python3"
  },
  "language_info": {
   "codemirror_mode": {
    "name": "ipython",
    "version": 3
   },
   "file_extension": ".py",
   "mimetype": "text/x-python",
   "name": "python",
   "nbconvert_exporter": "python",
   "pygments_lexer": "ipython3",
   "version": "3.7.0"
  }
 },
 "nbformat": 4,
 "nbformat_minor": 2
}
