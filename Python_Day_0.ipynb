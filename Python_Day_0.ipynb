{
  "nbformat": 4,
  "nbformat_minor": 0,
  "metadata": {
    "colab": {
      "name": "Python_Day_0.ipynb",
      "version": "0.3.2",
      "provenance": [],
      "collapsed_sections": [],
      "toc_visible": true
    },
    "kernelspec": {
      "display_name": "Python 3",
      "language": "python",
      "name": "python3"
    }
  },
  "cells": [
    {
      "metadata": {
        "colab_type": "text",
        "id": "ZEgIiJ5BMhBJ"
      },
      "cell_type": "markdown",
      "source": [
        "# Python Day 0\n",
        "----\n",
        "____\n",
        "____\n",
        "**Goals for Today**\n",
        "- Learn the basics of Python coding\n",
        "    - Variables and Types\n",
        "    - Simple Input/Output\n",
        "    - Comments\n",
        "    - If/Else\n",
        "    - Lists\n",
        "    - Loops\n",
        "    - Functions\n",
        "    - Imports\n",
        "    - Style Guides"
      ]
    },
    {
      "metadata": {
        "colab_type": "text",
        "id": "Oq8QVl_cyUoi"
      },
      "cell_type": "markdown",
      "source": [
        "**Preface**:  It is not GPGN268's goal to teach you all of Python.  Learning the language in a semester is difficult enough, and we only have a couple weeks.  Instead, our goal is to teach you just enough Python so that you can apply the basics of it to geophysical data analysis.  We're going to skip over some *very* important coding concepts, such as classes and objects, dictionaries, and exceptions.  These are certainly good things to know, and in the future you will need to learn them if you work in a geoscience job with a heavy emphasis on Python.  However, right now, said topics are not our priority.\n",
        "\n",
        "This notebook is meant as a quick and dirty introduction to some fundamental Python concepts.  There is not much space for dedicated practice of the introduced concepts, but you're encouraged to mess around in the code blocks and experiment.  Think of this notebook as something to keep on hand as a reference on core Python syntax.  There's also some links to where you can find more information.\n",
        "\n",
        "If you have some coding experience, the majority of this notebook will be purely review.  As stated in class, this notebook has no grade assigned to it, so feel free to take as little or as much time on it as you need.  Everyone learns in different ways too, so please ask us questions in class!  We don't expect you to perfectly absorb all the knowledge contained in this notebook.\n",
        "\n",
        "Now let's get into the wonderful world of programming in Python!\n",
        "\n",
        "<img src=\"https://i.redd.it/bka1gb843z7z.jpg\" width=600px>"
      ]
    },
    {
      "metadata": {
        "colab_type": "text",
        "id": "VgM168ZJMhBO"
      },
      "cell_type": "markdown",
      "source": [
        "## Variables and Types\n",
        "----\n",
        "____\n",
        "The basic building block of any coding script is a variable.  Just like variables in algebra, coding variables can take on any value. \n",
        "\n"
      ]
    },
    {
      "metadata": {
        "colab_type": "code",
        "id": "dJ-ncn54MhBR",
        "outputId": "9a1d404c-3e1b-42ad-90df-882c8562e22b",
        "colab": {
          "base_uri": "https://localhost:8080/",
          "height": 34
        }
      },
      "cell_type": "code",
      "source": [
        "a = 12\n",
        "print(a)"
      ],
      "execution_count": 0,
      "outputs": [
        {
          "output_type": "stream",
          "text": [
            "12\n"
          ],
          "name": "stdout"
        }
      ]
    },
    {
      "metadata": {
        "colab_type": "text",
        "id": "KVP_zG0zMhBf"
      },
      "cell_type": "markdown",
      "source": [
        "In coding, `=` means 'assign'.  We'll discuss input/output in the next section, but it should be self-explanatory that `print()` lets me print out whatever I put in the paranthesis.  Look at that, you already know two lines of code!\n",
        "\n",
        "*type* refers to how we classify our variables.  An *int* is an integer, a *float* is a decimal point number, etc.  If you do not explictly give your variable a type, Python will give a type for you.\n",
        "\n",
        "Numeric types:\n",
        "\n",
        "*   *int* = integer number\n",
        "*   *long* = long integer number (integer with lots of digits so Python gives it more space)\n",
        "*   *float* = decimal number\n",
        "*   *complex* = complex number (in python, we use *j* rather than *i* to indicate the imaginary component of a complex number)\n",
        "\n"
      ]
    },
    {
      "metadata": {
        "colab_type": "code",
        "id": "SBH9SwfmMhBi",
        "outputId": "c7fd8830-8944-4d43-f906-9a875ea44645",
        "colab": {
          "base_uri": "https://localhost:8080/",
          "height": 85
        }
      },
      "cell_type": "code",
      "source": [
        "b = int(8)\n",
        "c = float(12.1)\n",
        "d = int(12.1)\n",
        "e = complex(4, 5)\n",
        "print(b)\n",
        "print(c)\n",
        "print(d)\n",
        "print(e)"
      ],
      "execution_count": 0,
      "outputs": [
        {
          "output_type": "stream",
          "text": [
            "8\n",
            "12.1\n",
            "12\n",
            "(4+5j)\n"
          ],
          "name": "stdout"
        }
      ]
    },
    {
      "metadata": {
        "colab_type": "text",
        "id": "AffUBIWRMhBs"
      },
      "cell_type": "markdown",
      "source": [
        "Notice how Python truncated the decimal on that second to last variable because I explictly declared it to be an integer value.  Small errors like that can creep up on you as you code, so always be careful of how you or Python is assigning data types.  We can check Python types easily using `type(variable_we_want_to_type_check)`.\n"
      ]
    },
    {
      "metadata": {
        "id": "LdpOJ3_mCeCL",
        "colab_type": "code",
        "outputId": "29f4195d-098a-4260-d880-cc134f7a7b83",
        "colab": {
          "base_uri": "https://localhost:8080/",
          "height": 119
        }
      },
      "cell_type": "code",
      "source": [
        "print('The type of variable b is:')\n",
        "print(type(b))\n",
        "print('The type of variable c is:')\n",
        "print(type(c))\n",
        "print('The type of variable e is:')\n",
        "print(type(e))"
      ],
      "execution_count": 0,
      "outputs": [
        {
          "output_type": "stream",
          "text": [
            "The type of variable b is:\n",
            "<class 'int'>\n",
            "The type of variable c is:\n",
            "<class 'float'>\n",
            "The type of variable e is:\n",
            "<class 'complex'>\n"
          ],
          "name": "stdout"
        }
      ]
    },
    {
      "metadata": {
        "id": "PKKbHpvzDR1y",
        "colab_type": "text"
      },
      "cell_type": "markdown",
      "source": [
        "As one would expect, computers are really good at math.  We can combine variables with scalar values or other variables using our standard set of mathematical operators."
      ]
    },
    {
      "metadata": {
        "colab_type": "code",
        "id": "VlQ6toLIrJwq",
        "outputId": "e1cb49bf-bfa7-435d-8eff-f2afe6767696",
        "colab": {
          "base_uri": "https://localhost:8080/",
          "height": 119
        }
      },
      "cell_type": "code",
      "source": [
        "a = 2\n",
        "b = 3\n",
        "c = a + b # addition\n",
        "print(c)\n",
        "d = a - b # subtraction\n",
        "print(d)\n",
        "e = a * b # multiplication\n",
        "print(e)\n",
        "f = a / b # division\n",
        "print(f)\n",
        "g = a ** b # exponentiation\n",
        "print(g)\n",
        "h = a % b # modulus, or remainder after division\n",
        "print(h)\n"
      ],
      "execution_count": 0,
      "outputs": [
        {
          "output_type": "stream",
          "text": [
            "5\n",
            "-1\n",
            "6\n",
            "0.6666666666666666\n",
            "8\n",
            "2\n"
          ],
          "name": "stdout"
        }
      ]
    },
    {
      "metadata": {
        "id": "odvHkzlnDVyJ",
        "colab_type": "text"
      },
      "cell_type": "markdown",
      "source": [
        "Let's quickly elaborate on the modulus, as it's not used in your standard math courses, and it probably seems really silly to calculate a remainder.  The modulus is actually an insanely useful operator if you're creative.  For example, we can use it to calculate if a number is even or odd.  If a number is odd and we divide it by 2, the remainder should be 1, right? (Don't worry about the if/else syntax, we'll cover that soon!)  Try assigning any number to the variable 'k'."
      ]
    },
    {
      "metadata": {
        "id": "kUercnSADyKI",
        "colab_type": "code",
        "outputId": "f45aa1ed-e8ff-4cf9-b2d7-690bea8c0c5e",
        "colab": {
          "base_uri": "https://localhost:8080/",
          "height": 68
        }
      },
      "cell_type": "code",
      "source": [
        "print('Let us check if a number is odd:')\n",
        "k = 10\n",
        "print(k)\n",
        "if(k % 2 == 1): # read as: 'if k divided by 2 has a remainder of 1...'\n",
        "    print('The number is odd')\n",
        "else:\n",
        "    print('The number is even')"
      ],
      "execution_count": 0,
      "outputs": [
        {
          "output_type": "stream",
          "text": [
            "Let us check if a number is odd:\n",
            "10\n",
            "The number is even\n"
          ],
          "name": "stdout"
        }
      ]
    },
    {
      "metadata": {
        "colab_type": "text",
        "id": "_ZuYe531MhBv"
      },
      "cell_type": "markdown",
      "source": [
        "Variables don't have to be numbers.  They can be characters or strings of text.\n",
        "\n",
        "Non-numeric types:\n",
        "\n",
        "\n",
        "*   *str* = string of text, represented in the code by surrounding the string with single or double quotes.\n",
        "*   *bool* = boolean, a variable type that can be either `True` or `False`.\n",
        "\n"
      ]
    },
    {
      "metadata": {
        "colab_type": "code",
        "id": "G-YfHVa2MhBy",
        "outputId": "1f600649-08fc-45c9-d97d-e5aa5a351e65",
        "colab": {
          "base_uri": "https://localhost:8080/",
          "height": 34
        }
      },
      "cell_type": "code",
      "source": [
        "my_string = 'Hello World!'\n",
        "print(my_string)"
      ],
      "execution_count": 0,
      "outputs": [
        {
          "output_type": "stream",
          "text": [
            "Hello World!\n"
          ],
          "name": "stdout"
        }
      ]
    },
    {
      "metadata": {
        "colab_type": "text",
        "id": "d4CgUszWSGNw"
      },
      "cell_type": "markdown",
      "source": [
        "## Simple Input/Output\n",
        "----\n",
        "____\n",
        "Generally speaking, our programs will take in some amount of input information and output some result.  Most geoscientists will obtain inputs from data files they feed into their programs, but input can be simple as asking the users for some input from their keyboard.  We can define a variable from user input using `input()`.  As you already know, we can display information using `print()`."
      ]
    },
    {
      "metadata": {
        "colab_type": "code",
        "id": "WdnU-IxOlNrb",
        "outputId": "1531a8cb-ab10-479b-93e1-f824816e2d34",
        "colab": {
          "base_uri": "https://localhost:8080/",
          "height": 85
        }
      },
      "cell_type": "code",
      "source": [
        "user_number = float(input('Enter a number. \\n'))\n",
        "new_number = user_number + 3\n",
        "print('Your new number is:')\n",
        "print(new_number)"
      ],
      "execution_count": 0,
      "outputs": [
        {
          "output_type": "stream",
          "text": [
            "Enter a number. \n",
            "1\n",
            "Your new number is:\n",
            "4.0\n"
          ],
          "name": "stdout"
        }
      ]
    },
    {
      "metadata": {
        "colab_type": "text",
        "id": "89p2CpvtO8vV"
      },
      "cell_type": "markdown",
      "source": [
        "A few things to note:\n",
        "\n",
        "\n",
        "*   Notice the explicit declaration of a float variable in the input line.  Input is by default a string, so we must cast the input into a number type such as *float* or an *int* so we can do math with it.\n",
        "*   Because we made `user_number` a *float*, Python also makes `new_number` a float to preserve percision.\n",
        "*   There are neat ways to embed variables in strings without using two separate print statements.  If such practices interest you, I would suggest you look into the topic of string formatting and the `.format()` string method: https://docs.python.org/3/library/string.html#string-formatting\n",
        "\n",
        "For the most part, we will only need to use file input, rather than keyboard input.  We'll cover file input/output in a dedicated notebook as that's a much meatier topic.\n",
        "\n"
      ]
    },
    {
      "metadata": {
        "colab_type": "text",
        "id": "UMAZZHd6RUMT"
      },
      "cell_type": "markdown",
      "source": [
        "## Comments\n",
        "----\n",
        "____\n",
        "Imagine this scenario.  You walk into your first slick geoscientist position right out of Mines.  You sit down with your complimentary company coffee at your trendy sit/stand desk (no really those things are awesome), ready to work.  Your boss asks you to look over the team's Python scripts and get up to speed.  You load up the scripts in VIM like the nerd you are, and waves upon waves of code come crashing down upon you.  Vaguely named variables like `i` and `temp` bombard you while you also find yourself under seige from functions that appear to do nothing but break the program if removed.  And all the while, you see not one explanatory comment in these scripts.  You realize you may have made a mistake when you took this job so quickly without asking too many questions.\n",
        "\n",
        "Okay, that's a little cheesy, but you get the point.  It's no fun to read Python code that isn't well explained.  We use *comments* to explain what we're doing.  Commented lines begin with a `#`, followed by whatever we want to say about the line of code.  The commented line isn't 'seen' when we execute the code, so we don't get any errors from the comments.\n",
        "\n",
        "Comments come in a few flavors, but starting out it's best to use descriptive block comments.  Block comments are one or more lines of comments that appear before a block of code.  They explain what that chunk of code does."
      ]
    },
    {
      "metadata": {
        "colab_type": "code",
        "id": "NNF5pfUeTVJR",
        "outputId": "1ae08436-e292-414e-e55c-10ae158407c3",
        "colab": {
          "base_uri": "https://localhost:8080/",
          "height": 85
        }
      },
      "cell_type": "code",
      "source": [
        "# Applying a scalar transform to the user's input.\n",
        "# This accounts for the uncertainty in the heat\n",
        "# resistance of the thermodenuder.\n",
        "\n",
        "user_number = float(input('Enter a number. \\n'))\n",
        "new_number = user_number + 3\n",
        "print('Your new number is:')\n",
        "print(new_number)"
      ],
      "execution_count": 0,
      "outputs": [
        {
          "output_type": "stream",
          "text": [
            "Enter a number. \n",
            "1\n",
            "Your new number is:\n",
            "4.0\n"
          ],
          "name": "stdout"
        }
      ]
    },
    {
      "metadata": {
        "colab_type": "text",
        "id": "Wezuw0TkTmMI"
      },
      "cell_type": "markdown",
      "source": [
        "Note that I'm explaining what I'm doing as well as why I'm doing it.  You don't always have to explain your 'why', but sometimes it helps put code in context.  Also note how I didn't explain every single line of code.  I don't need to explain what `print()` does; people should know that.  I also avoid stating the obvious, like \"I'm adding 3 to the input\".  Everyone can see that I'm adding 3; they may be asking themselves what purpose that's accomplishing.  Maybe it accounts for an edge effect in a graphic, or it corrects an equation in a model, etc.  Think about your audience when writing your comments.  Be descriptive enough that they know what you're doing, but don't be overly verbose to the point where the comments are useless.  Keep it short and impactful.\n",
        "\n",
        "There's a couple other flavors of comments/textual description.  At the start of some IDEs, such as Spyder, you may see what look like a comment that begins with three single quotes, spans multiple lines, and ends with three single quotes.  This is called a docstring, which is an important concept that's outside the scope of this class.  It's kind of like a mega-comment that explains what an entire program or function does.  Certain programs can find docstrings and combine them together to create documentation for a set of scripts.  Don't worry about including docstrings in your code for this class.  Just include well-written comments so we can follow what you're doing."
      ]
    },
    {
      "metadata": {
        "id": "n6hSPNO7Aqzn",
        "colab_type": "code",
        "outputId": "3250b9b4-1c81-4949-defe-28c30f52391e",
        "colab": {
          "base_uri": "https://localhost:8080/",
          "height": 34
        }
      },
      "cell_type": "code",
      "source": [
        "'''Introductory notebook to teach students basic Python syntax.\n",
        "   Runs natively in Jupyter Notebooks or Google Colab.\n",
        "'''\n",
        "\n",
        "# The red text above is a docstring.  You may see them if looking\n",
        "# at python scripts other people have written.  Don't worry about putting\n",
        "# them in your code for this class unless you really want to!"
      ],
      "execution_count": 0,
      "outputs": [
        {
          "output_type": "execute_result",
          "data": {
            "text/plain": [
              "'Introductory notebook to teach students basic Python syntax.\\n   Runs natively in Jupyter Notebooks or Google Colab.\\n'"
            ]
          },
          "metadata": {
            "tags": []
          },
          "execution_count": 1
        }
      ]
    },
    {
      "metadata": {
        "colab_type": "text",
        "id": "-rIu5mXNQdOA"
      },
      "cell_type": "markdown",
      "source": [
        "## If/Else\n",
        "----\n",
        "____\n",
        "\n",
        "<img src=\"https://i.imgur.com/xNWld3g.jpg\" width=600px>\n",
        "\n",
        "We can use *conditional statements* to control the flow of our code, creating a river with many branching paths rather than a single stream. `if` will only allow the code below it to execute if its conditions are met (`a > 10`).  Otherwise, our `else` statement will execute.  "
      ]
    },
    {
      "metadata": {
        "colab_type": "code",
        "id": "9Iib4xdGRI5Z",
        "outputId": "f385b49d-1d53-49a5-f888-22e976b5c153",
        "colab": {
          "base_uri": "https://localhost:8080/",
          "height": 51
        }
      },
      "cell_type": "code",
      "source": [
        "a = 11\n",
        "if a > 10:\n",
        "    b = 5\n",
        "else:\n",
        "    b = 0\n",
        "print(b)\n",
        "\n",
        "a = 9\n",
        "if a > 10:\n",
        "    b = 5\n",
        "else:\n",
        "    b = 0\n",
        "print(b)"
      ],
      "execution_count": 0,
      "outputs": [
        {
          "output_type": "stream",
          "text": [
            "5\n",
            "0\n"
          ],
          "name": "stdout"
        }
      ]
    },
    {
      "metadata": {
        "colab_type": "text",
        "id": "orWSGADvQoZG"
      },
      "cell_type": "markdown",
      "source": [
        "We can stack multiple if statements to an else statement using `elif` (else if) statements after the first `if` statement.  If the first `if` statement fails, we move to the first `elif` statement.  If that statement fails, we move down to the next `elif` statement, and so on. If no `if` or `elif` statements pass then the `else` statement will run. **For a given set of if/elif/else statements, only one will execute!**"
      ]
    },
    {
      "metadata": {
        "colab_type": "code",
        "id": "hOCz8UsKQoZJ",
        "outputId": "c39e9e30-a590-4e4e-84dc-e559e3b3b3ee",
        "colab": {
          "base_uri": "https://localhost:8080/",
          "height": 34
        }
      },
      "cell_type": "code",
      "source": [
        "a = 10\n",
        "if a > 10:\n",
        "    b = 5\n",
        "elif a == 10:\n",
        "    b = 2\n",
        "elif a == 20:\n",
        "    b = 20\n",
        "else:\n",
        "    b = 0\n",
        "print(b)"
      ],
      "execution_count": 0,
      "outputs": [
        {
          "output_type": "stream",
          "text": [
            "2\n"
          ],
          "name": "stdout"
        }
      ]
    },
    {
      "metadata": {
        "colab_type": "text",
        "id": "XHgh3_05QoZY"
      },
      "cell_type": "markdown",
      "source": [
        "Notice how I check equality using `==`.  We have to do this because `=` already means assign, so it can't be both 'assign' and 'is equal to'!  This is a common error when coding so be sure to check and make sure you mean `=` (assign right side information to left side variable) or `==` (is left side equal to right side?).\n",
        "\n",
        "`if` statements can also be coupled with booleans rather than explicit conditional statements.  If the boolean is true, the indented block executes."
      ]
    },
    {
      "metadata": {
        "colab_type": "code",
        "id": "i8YMiHJNQoZa",
        "outputId": "6bdec9ea-bd86-4cd1-fd40-1099717964eb",
        "colab": {
          "base_uri": "https://localhost:8080/",
          "height": 34
        }
      },
      "cell_type": "code",
      "source": [
        "a = True\n",
        "if(a):\n",
        "    b = 5\n",
        "else:\n",
        "    b = 0\n",
        "print(b)\n",
        "  "
      ],
      "execution_count": 0,
      "outputs": [
        {
          "output_type": "stream",
          "text": [
            "5\n"
          ],
          "name": "stdout"
        }
      ]
    },
    {
      "metadata": {
        "colab_type": "text",
        "id": "TudsTxDmQoZo"
      },
      "cell_type": "markdown",
      "source": [
        "`if(a)` can be thought of as a simple way of writing `if(a==True)`.\n",
        "\n",
        "We can stack multiple conditions together with the keywords `and` and `or`.  As you may guess, `and` ensures a conditional statement is true only if both statements are true.  `or` can execute as long as one of the statements is true."
      ]
    },
    {
      "metadata": {
        "colab_type": "code",
        "id": "q3yQHshcQoZr",
        "outputId": "27bac2c5-d098-43c8-dd23-80da38b15089",
        "colab": {
          "base_uri": "https://localhost:8080/",
          "height": 85
        }
      },
      "cell_type": "code",
      "source": [
        "a = 15\n",
        "\n",
        "if a > 10 and a < 20:\n",
        "    b = 5\n",
        "else:\n",
        "    b = 0\n",
        "print(b)\n",
        "\n",
        "if a > 10 or a < 20:\n",
        "    b = 5\n",
        "else:\n",
        "    b = 0\n",
        "print(b)\n",
        "\n",
        "if a > 20 and a < 30:\n",
        "    b = 5\n",
        "else:\n",
        "    b = 0\n",
        "print(b)\n",
        "\n",
        "if a > 20 or a < 30:\n",
        "    b = 5\n",
        "else:\n",
        "    b = 0\n",
        "print(b)"
      ],
      "execution_count": 0,
      "outputs": [
        {
          "output_type": "stream",
          "text": [
            "5\n",
            "5\n",
            "0\n",
            "5\n"
          ],
          "name": "stdout"
        }
      ]
    },
    {
      "metadata": {
        "colab_type": "text",
        "id": "DZ1hNT3mQoZ2"
      },
      "cell_type": "markdown",
      "source": [
        "Try to track the logic for each of the four `if` statements.  If one doesn't make sense, ask a TA in class/office hours!"
      ]
    },
    {
      "metadata": {
        "colab_type": "text",
        "id": "-SUHp_WOMhCG"
      },
      "cell_type": "markdown",
      "source": [
        "## Lists\n",
        "----\n",
        "____\n",
        "Sometimes, we have multiple variables that are related to each other.  For instance, you may be a teaching assistant at a state school in Colorado.  You have a ton of grading to do and not nearly enough time for skiing and playing video games.  If you wanted to use Python to speed up your grading, you could reason that you'll have different variables for each student's grade.  You could write them out one at a time."
      ]
    },
    {
      "metadata": {
        "colab_type": "code",
        "id": "9GlOxbORRI_x",
        "colab": {}
      },
      "cell_type": "code",
      "source": [
        "grade_0 = 80\n",
        "grade_1 = 90\n",
        "grade_2 = 81\n",
        "grade_3 = 97"
      ],
      "execution_count": 0,
      "outputs": []
    },
    {
      "metadata": {
        "colab_type": "text",
        "id": "NvpmQXkaMhCI"
      },
      "cell_type": "markdown",
      "source": [
        "But this would be really clunky, and the whole point of coding is to make our lives easier.  A Python *list* is an array of items that we can place together, iterate through, and manipulate as a single unit.  We declare lists just as we would variables, and we place items in brackets, separating them with commas."
      ]
    },
    {
      "metadata": {
        "colab_type": "code",
        "id": "gpkBYc_zMhCM",
        "outputId": "4a0952d7-090f-4d4a-e4c3-c4fdefad76c5",
        "colab": {
          "base_uri": "https://localhost:8080/",
          "height": 34
        }
      },
      "cell_type": "code",
      "source": [
        "assignment_grades = [80, 90, 81, 97]\n",
        "print(assignment_grades[0])"
      ],
      "execution_count": 0,
      "outputs": [
        {
          "output_type": "stream",
          "text": [
            "80\n"
          ],
          "name": "stdout"
        }
      ]
    },
    {
      "metadata": {
        "colab_type": "text",
        "id": "0dolZP8ZR1o0"
      },
      "cell_type": "markdown",
      "source": [
        "We can access any value in the array using bracket notation (remember that array counting starts at 0, not 1). \n",
        "\n",
        "Lists have their own set of functions/actions that can be accessed by typing our list name, then a '.', then the function name.  For example, we can add on another value to our list using `name_of_our_list.append(value)`.  We'll make our own functions in a few sections, but for now, know that Python has plenty of built in functions for lists and other constructs."
      ]
    },
    {
      "metadata": {
        "colab_type": "code",
        "id": "2CqiKWeURzci",
        "outputId": "ffb9b720-07c8-4787-c621-d55d898bd59a",
        "colab": {
          "base_uri": "https://localhost:8080/",
          "height": 34
        }
      },
      "cell_type": "code",
      "source": [
        "assignment_grades.append(85)\n",
        "print(assignment_grades)"
      ],
      "execution_count": 0,
      "outputs": [
        {
          "output_type": "stream",
          "text": [
            "[80, 90, 81, 97, 85]\n"
          ],
          "name": "stdout"
        }
      ]
    },
    {
      "metadata": {
        "colab_type": "text",
        "id": "Kqy0UnzbSmre"
      },
      "cell_type": "markdown",
      "source": [
        "In later notebooks, we'll discuss other ways of creating arrays in Python, which will open new doors for how we manipulate data."
      ]
    },
    {
      "metadata": {
        "colab_type": "text",
        "id": "jUjfKPFoMhCZ"
      },
      "cell_type": "markdown",
      "source": [
        "## Loops\n",
        "----\n",
        "____\n",
        "Wouldn't it be great if there was a way to quickly go through the array and perform some basic math or check a conditional statement?  After all, it would be really annoying to have to call each value separately."
      ]
    },
    {
      "metadata": {
        "colab_type": "code",
        "id": "k3BtY6dRWCE9",
        "outputId": "59720515-6f21-4caa-e74a-0f4ab8ede213",
        "colab": {
          "base_uri": "https://localhost:8080/",
          "height": 34
        }
      },
      "cell_type": "code",
      "source": [
        "assignment_grades = [90, 97, 89, 91, 92, 94, 95, 78, 82, 83, 90]\n",
        "assignment_letters = []\n",
        "if assignment_grades[0] > 90:\n",
        "    assignment_letters.append('A')\n",
        "else:\n",
        "    assignment_letters.append('F--')\n",
        "if assignment_grades[1] > 90:\n",
        "    assignment_letters.append('A')\n",
        "else:\n",
        "    assignment_letters.append('F--')\n",
        "if assignment_grades[2] > 90:\n",
        "    assignment_letters.append('A')\n",
        "else:\n",
        "    assignment_letters.append('F--')\n",
        "if assignment_grades[3] > 90:\n",
        "    assignment_letters.append('A')\n",
        "else:\n",
        "    assignment_letters.append('F--')\n",
        "if assignment_grades[4] > 90:\n",
        "    assignment_letters.append('A')\n",
        "else:\n",
        "    assignment_letters.append('F--')\n",
        "if assignment_grades[5] > 90:\n",
        "    assignment_letters.append('A')\n",
        "else:\n",
        "    assignment_letters.append('F--')\n",
        "if assignment_grades[6] > 90:\n",
        "    assignment_letters.append('A')\n",
        "else:\n",
        "    assignment_letters.append('F--')\n",
        "if assignment_grades[7] > 90:\n",
        "    assignment_letters.append('A')\n",
        "else:\n",
        "    assignment_letters.append('F--')\n",
        "if assignment_grades[8] > 90:\n",
        "    assignment_letters.append('A')\n",
        "else:\n",
        "    assignment_letters.append('F--')\n",
        "if assignment_grades[9] > 90:\n",
        "    assignment_letters.append('A')\n",
        "else:\n",
        "    assignment_letters.append('F--')\n",
        "if assignment_grades[10] > 90:\n",
        "    assignment_letters.append('A')\n",
        "else:\n",
        "    assignment_letters.append('F--')\n",
        "print(assignment_letters)\n",
        "  "
      ],
      "execution_count": 0,
      "outputs": [
        {
          "output_type": "stream",
          "text": [
            "['F--', 'A', 'F--', 'A', 'A', 'A', 'A', 'F--', 'F--', 'F--', 'F--']\n"
          ],
          "name": "stdout"
        }
      ]
    },
    {
      "metadata": {
        "colab_type": "text",
        "id": "8S1gtQAfUjW-"
      },
      "cell_type": "markdown",
      "source": [
        "Seriously, nobody would ever want to code if we had to do it like that.  In Python, we can repeat an action multiple times using a loop.  A loop is a section of code that repeats over and over until a certain condition is met.\n",
        "\n",
        "In data science, `for` loops are the most common.  Let's see one in action and then break down the syntax."
      ]
    },
    {
      "metadata": {
        "colab_type": "code",
        "id": "Yc31LJOwMhCc",
        "outputId": "3e6d2711-8780-4c53-ec46-4a741f0e3392",
        "colab": {
          "base_uri": "https://localhost:8080/",
          "height": 34
        }
      },
      "cell_type": "code",
      "source": [
        "assignment_letters = []\n",
        "for i in range(11):\n",
        "    if(assignment_grades[i] > 90):\n",
        "        assignment_letters.append('A')\n",
        "    else:\n",
        "        assignment_letters.append('F--')\n",
        "print(assignment_letters)"
      ],
      "execution_count": 0,
      "outputs": [
        {
          "output_type": "stream",
          "text": [
            "['F--', 'A', 'F--', 'A', 'A', 'A', 'A', 'F--', 'F--', 'F--', 'F--']\n"
          ],
          "name": "stdout"
        }
      ]
    },
    {
      "metadata": {
        "colab_type": "text",
        "id": "zUvu2uf9XzuT"
      },
      "cell_type": "markdown",
      "source": [
        "Well look at that, we got the same result with a fraction of the work.  Everything except for the second line of code is old news, so let's look at the 'for' statement.\n",
        "\n",
        "We start every for loop statement with `for`, followed by our iterating element.  Our iterating element is a variable that is going to exist only in our for loop and helps us keep track of where we are in the loop.  Here we call our iterating element 'i', which is fine for simple code like this.  If we do more complex tasks, we may want to give our variables more meaningful names.\n",
        "\n",
        "Next, we have the keyword `in`, followed by whatever sequence, list, etc. that we want to cycle through.   For our loop, we generate our sequence using `range()`. `range()` is a generator that creates integers leading up to (but not including) the number in parantheses. "
      ]
    },
    {
      "metadata": {
        "colab_type": "code",
        "id": "hLdRc-UJZDf1",
        "outputId": "cd0e3f84-5331-4e6b-f14f-a3ff97b2ba8f",
        "colab": {
          "base_uri": "https://localhost:8080/",
          "height": 204
        }
      },
      "cell_type": "code",
      "source": [
        "for i in range(11):\n",
        "    print(i)"
      ],
      "execution_count": 0,
      "outputs": [
        {
          "output_type": "stream",
          "text": [
            "0\n",
            "1\n",
            "2\n",
            "3\n",
            "4\n",
            "5\n",
            "6\n",
            "7\n",
            "8\n",
            "9\n",
            "10\n"
          ],
          "name": "stdout"
        }
      ]
    },
    {
      "metadata": {
        "colab_type": "text",
        "id": "gdjoIxoVZRr4"
      },
      "cell_type": "markdown",
      "source": [
        "Again, recall that we start counting at 0. We can feed whatever value we want into range.  For instance, rather than hardcoding the length of our assignment grades array, we can just feed in the length of the array to the range function using `len(assignment_grades)`"
      ]
    },
    {
      "metadata": {
        "colab_type": "code",
        "id": "UuQ7waPoZpap",
        "outputId": "560ef8af-2e01-4acc-ecb0-93b1694d5cd9",
        "colab": {
          "base_uri": "https://localhost:8080/",
          "height": 51
        }
      },
      "cell_type": "code",
      "source": [
        "print(len(assignment_grades))\n",
        "\n",
        "assignment_letters = []\n",
        "for i in range(len(assignment_grades)):\n",
        "    if(assignment_grades[i] > 90):\n",
        "        assignment_letters.append('A')\n",
        "    else:\n",
        "        assignment_letters.append('F--')\n",
        "print(assignment_letters)"
      ],
      "execution_count": 0,
      "outputs": [
        {
          "output_type": "stream",
          "text": [
            "11\n",
            "['F--', 'A', 'F--', 'A', 'A', 'A', 'A', 'F--', 'F--', 'F--', 'F--']\n"
          ],
          "name": "stdout"
        }
      ]
    },
    {
      "metadata": {
        "colab_type": "text",
        "id": "DLLgUG7EvEU-"
      },
      "cell_type": "markdown",
      "source": [
        "## Functions\n",
        "----\n",
        "____\n",
        "Variables and variable manipulation allow us to walk, while functions allow us to run and fly.  A function is a block of code that can be called repeatedly throughout a script.  We can supply some information to the function (these pieces of information are called arguments), and the function will return an output."
      ]
    },
    {
      "metadata": {
        "colab_type": "code",
        "id": "6lR3gu8Vv58q",
        "colab": {}
      },
      "cell_type": "code",
      "source": [
        "def assign_grade(assignment_grade):\n",
        "    '''Return a grade letter for a given assignment grade number.\n",
        "    Inputs:\n",
        "    assignment_grade - grade to assign letter to\n",
        "    '''\n",
        "    if(assignment_grades[i] > 90):\n",
        "        return 'A'\n",
        "    elif(assignment_grades[i] > 80):\n",
        "        return 'B'\n",
        "    elif(assignment_grades[i] > 70):\n",
        "        return 'C'\n",
        "    elif(assignment_grades[i] > 60):\n",
        "        return 'D'\n",
        "    elif(assignment_grades[i] > 50):\n",
        "        return 'F'\n",
        "    else:\n",
        "        return 'F--'"
      ],
      "execution_count": 0,
      "outputs": []
    },
    {
      "metadata": {
        "colab_type": "text",
        "id": "k3KsKNCXwexj"
      },
      "cell_type": "markdown",
      "source": [
        "We can use our function anywhere our code.  Let's toss it in a loop."
      ]
    },
    {
      "metadata": {
        "colab_type": "code",
        "id": "DgKI8cerwkvn",
        "outputId": "088f5217-d53a-4f37-ed4f-bf68b3ba4395",
        "colab": {
          "base_uri": "https://localhost:8080/",
          "height": 34
        }
      },
      "cell_type": "code",
      "source": [
        "assignment_grades = [90, 97, 89, 91, 92, 94, 95, 78, 82, 83, 90]                 \n",
        "assignment_letters = []\n",
        "for i in range(len(assignment_grades)):\n",
        "    assignment_letter = assign_grade(assignment_grades[i])\n",
        "    assignment_letters.append(assignment_letter)\n",
        "print(assignment_letters)"
      ],
      "execution_count": 0,
      "outputs": [
        {
          "output_type": "stream",
          "text": [
            "['B', 'A', 'B', 'A', 'A', 'A', 'A', 'C', 'B', 'B', 'B']\n"
          ],
          "name": "stdout"
        }
      ]
    },
    {
      "metadata": {
        "colab_type": "text",
        "id": "TR9Tm75Bx7Q6"
      },
      "cell_type": "markdown",
      "source": [
        "With just a couple basic programming concepts, we've greatly reduced our grading code from where we started.  "
      ]
    },
    {
      "metadata": {
        "colab_type": "text",
        "id": "8LKGrGZBe_ak"
      },
      "cell_type": "markdown",
      "source": [
        "## Imports\n",
        "----\n",
        "____\n",
        "So far, we've dealt with native Python.  To be honest, native Python kind of sucks in some aspects.  The Python interpreter is slow as heck, and there's a lot of features that other languages have that basic Python lacks.  But that's intentional.  The real magic of Python is the ability to pull in other people's work by importing modules.  A module is a set of Python code containing pre-built functions that anyone can reuse.  Why reinvent the wheel?  Why spend hours upon hours coming up with an effective linear algebra system when the makers of NumPy already did?  Just import it!\n",
        "\n",
        "<img src=\"https://i.redd.it/wqlp305622i11.jpg\" width=600px>\n",
        "\n",
        "We'll cover imports again in later notebooks, but just so you have the syntax for everything in one nice spot, here are a few ways to import modules."
      ]
    },
    {
      "metadata": {
        "colab_type": "code",
        "id": "vNC1IngFgVKa",
        "outputId": "53e65945-9c56-46b1-a4eb-45f72e2f4f45",
        "colab": {
          "base_uri": "https://localhost:8080/",
          "height": 102
        }
      },
      "cell_type": "code",
      "source": [
        "import numpy # we import the entire module\n",
        "array = numpy.ones((5,5))\n",
        "print(array)"
      ],
      "execution_count": 0,
      "outputs": [
        {
          "output_type": "stream",
          "text": [
            "[[1. 1. 1. 1. 1.]\n",
            " [1. 1. 1. 1. 1.]\n",
            " [1. 1. 1. 1. 1.]\n",
            " [1. 1. 1. 1. 1.]\n",
            " [1. 1. 1. 1. 1.]]\n"
          ],
          "name": "stdout"
        }
      ]
    },
    {
      "metadata": {
        "colab_type": "code",
        "id": "O_Lyz9ILgiWI",
        "outputId": "37bf102e-183f-445a-9ded-c24522fbe159",
        "colab": {
          "base_uri": "https://localhost:8080/",
          "height": 102
        }
      },
      "cell_type": "code",
      "source": [
        "import numpy as np # we import the entire module but give it an alias\n",
        "array = np.ones((5,5))\n",
        "print(array)"
      ],
      "execution_count": 0,
      "outputs": [
        {
          "output_type": "stream",
          "text": [
            "[[1. 1. 1. 1. 1.]\n",
            " [1. 1. 1. 1. 1.]\n",
            " [1. 1. 1. 1. 1.]\n",
            " [1. 1. 1. 1. 1.]\n",
            " [1. 1. 1. 1. 1.]]\n"
          ],
          "name": "stdout"
        }
      ]
    },
    {
      "metadata": {
        "colab_type": "code",
        "id": "6RGxpYcLgs0e",
        "outputId": "6cd00c94-31f0-47e4-b730-de4fffd18079",
        "colab": {
          "base_uri": "https://localhost:8080/",
          "height": 102
        }
      },
      "cell_type": "code",
      "source": [
        " # we import only what functions we need.  This is best practice, but\n",
        " # we get lazy usually and just import everything for the heck of it.\n",
        "\n",
        "from numpy import ones \n",
        "array = ones((5,5))\n",
        "print(array)"
      ],
      "execution_count": 0,
      "outputs": [
        {
          "output_type": "stream",
          "text": [
            "[[1. 1. 1. 1. 1.]\n",
            " [1. 1. 1. 1. 1.]\n",
            " [1. 1. 1. 1. 1.]\n",
            " [1. 1. 1. 1. 1.]\n",
            " [1. 1. 1. 1. 1.]]\n"
          ],
          "name": "stdout"
        }
      ]
    },
    {
      "metadata": {
        "colab_type": "code",
        "id": "Y-PeOo6uhhKd",
        "outputId": "e4256c91-6273-40a3-8217-176ca343d79c",
        "colab": {
          "base_uri": "https://localhost:8080/",
          "height": 102
        }
      },
      "cell_type": "code",
      "source": [
        "# this is literally the worst thing you could do ever.  Good luck\n",
        "# managing your namespace when you wildcard import everything.\n",
        "# Don't be surprised if you accidently rename a function and break\n",
        "# the internet.  No seriously, don't do this ever.\n",
        "\n",
        "from numpy import * # a * indicates a wildcard import\n",
        "array = ones((5,5))\n",
        "print(array)\n"
      ],
      "execution_count": 0,
      "outputs": [
        {
          "output_type": "stream",
          "text": [
            "[[1. 1. 1. 1. 1.]\n",
            " [1. 1. 1. 1. 1.]\n",
            " [1. 1. 1. 1. 1.]\n",
            " [1. 1. 1. 1. 1.]\n",
            " [1. 1. 1. 1. 1.]]\n"
          ],
          "name": "stdout"
        }
      ]
    },
    {
      "metadata": {
        "colab_type": "code",
        "id": "2BaAIOH7iaSj",
        "outputId": "df47f230-8060-45b7-b435-1e16a0812a71",
        "colab": {
          "base_uri": "https://localhost:8080/",
          "height": 316
        }
      },
      "cell_type": "code",
      "source": [
        "# To elaborate on why the last code block is so bad, imagine you want to \n",
        "# name a variable \"zeros\".  You do this not realizing that numpy also has\n",
        "# a function called zeros.  Later, you actually want to use numpy's zeros\n",
        "# function, but you've accidentally overwritten that name, leading to this\n",
        "# error.\n",
        "\n",
        "from numpy import * # a * indicates a wildcard import\n",
        "array = ones((5,5))\n",
        "print(array)\n",
        "\n",
        "zeros = 0\n",
        "print(zeros)\n",
        "\n",
        "# hundreds of lines of code later...\n",
        "\n",
        "array_2 = zeros((5,5))\n",
        "print(array_2)\n"
      ],
      "execution_count": 0,
      "outputs": [
        {
          "output_type": "stream",
          "text": [
            "[[1. 1. 1. 1. 1.]\n",
            " [1. 1. 1. 1. 1.]\n",
            " [1. 1. 1. 1. 1.]\n",
            " [1. 1. 1. 1. 1.]\n",
            " [1. 1. 1. 1. 1.]]\n",
            "0\n"
          ],
          "name": "stdout"
        },
        {
          "output_type": "error",
          "ename": "TypeError",
          "evalue": "ignored",
          "traceback": [
            "\u001b[0;31m---------------------------------------------------------------------------\u001b[0m",
            "\u001b[0;31mTypeError\u001b[0m                                 Traceback (most recent call last)",
            "\u001b[0;32m<ipython-input-24-11945cf11814>\u001b[0m in \u001b[0;36m<module>\u001b[0;34m()\u001b[0m\n\u001b[1;32m      9\u001b[0m \u001b[0;31m# hundreds of lines of code later...\u001b[0m\u001b[0;34m\u001b[0m\u001b[0;34m\u001b[0m\u001b[0;34m\u001b[0m\u001b[0m\n\u001b[1;32m     10\u001b[0m \u001b[0;34m\u001b[0m\u001b[0m\n\u001b[0;32m---> 11\u001b[0;31m \u001b[0marray_2\u001b[0m \u001b[0;34m=\u001b[0m \u001b[0mzeros\u001b[0m\u001b[0;34m(\u001b[0m\u001b[0;34m(\u001b[0m\u001b[0;36m5\u001b[0m\u001b[0;34m,\u001b[0m\u001b[0;36m5\u001b[0m\u001b[0;34m)\u001b[0m\u001b[0;34m)\u001b[0m\u001b[0;34m\u001b[0m\u001b[0;34m\u001b[0m\u001b[0m\n\u001b[0m\u001b[1;32m     12\u001b[0m \u001b[0mprint\u001b[0m\u001b[0;34m(\u001b[0m\u001b[0marray_2\u001b[0m\u001b[0;34m)\u001b[0m\u001b[0;34m\u001b[0m\u001b[0;34m\u001b[0m\u001b[0m\n",
            "\u001b[0;31mTypeError\u001b[0m: 'int' object is not callable"
          ]
        }
      ]
    },
    {
      "metadata": {
        "colab_type": "text",
        "id": "eFyzhpQ_i93T"
      },
      "cell_type": "markdown",
      "source": [
        "Ooops, that wildcard import wasn't very smart of us.  We inadvertently created a minefield in our code where we could accidentally overwrite a number of functions.  Modules are powerful, but remember that with great power comes great responsibility.  Luckily, if you're viewing this in Google Colab, Google's coders know what's up and give us a nice button to search stack overflow for our error message.  Stack Overflow is a nice website for receiving helpful yet also sometimes quite condescending coding advice.\n",
        "\n",
        "For the time being, we can fix our error either by naming our variable `zeros` something different, or we can change the wildcard import to something sensible."
      ]
    },
    {
      "metadata": {
        "colab_type": "text",
        "id": "ZP35I7D4N2Ch"
      },
      "cell_type": "markdown",
      "source": [
        "## Style Guides\n",
        "----\n",
        "____\n",
        "There are nearly infinite ways to structure your code, name your variables, etc.  Which way is best?\n",
        "\n",
        "If you're just coding for yourself, the answer is whatever way is best for you.  If you're coding alongside others, then it makes more sense to have a standard set of rules that everyone follows.  These rules are put together in what's called a style guide.  The style guide contains a set of best practices to follow when coding: what naming conventions to use, where to put your functions, how to document your code, etc.\n",
        "\n",
        "In Python, the standard for almost every company or institution is PEP8, which can be found at this link: https://www.python.org/dev/peps/pep-0008/\n",
        "\n",
        "PEP8 contains a ton of information on topics we haven't covered yet, but I encourage you to peruse it all the same when you have some down time in class.  Even if you don't understand everything, good habits are easiest to establish in the beginning of your career.  Consider incorporating the following practices from PEP8 when you code your starting assignments:\n",
        "\n",
        "\n",
        "*   Keep all lines of code under 80 characters.  If you code in Google Colab, this is represented by a dashed line that appears when you begin to reach 80 characters.  This isn't as important as it was back in the day when screens were smaller, but nobody enjoys reading lines of code that never seem to end.\n",
        "*   Be consistent with quotes.  Single or double quotes both work in Python, but pick one and stick to it.\n",
        "*   Avoid unnecessary whitespae.\n",
        "*   Use appropriate block comments before a block of code to properly explain in proper English.  Avoid short inline comments that state the obvious \n",
        "*   *(e.g. x = x + 1 # increment x by 1)*\n",
        "*   Use a consistent naming convention for your variables.  PEP8 prefers lowercase_separated_by_underscores, but some people swear by mixedCaseWhereEveryWordAfterTheFirstIsCapitalized.\n",
        "*   If you code any functions you use later in your code, put them at the beginning of your script or notebook.\n",
        "\n",
        "\n"
      ]
    },
    {
      "metadata": {
        "colab_type": "text",
        "id": "nCI1clmolqg8"
      },
      "cell_type": "markdown",
      "source": [
        "## Conclusion\n",
        "----\n",
        "____\n",
        "Wow, look at you!  You're ready to start kicking butt at Python for geophysical data analysis.  Throughout the rest of the module, we'll focus on more specific key topics important to our work, but they all build off these fundamental concepts.  Going forward, it's always good to practice.  I encourage you to look at some online tutorials to help round out your knowledge of basic Python as well as just get some experience writing basic code.\n",
        "\n",
        "Some important resources:\n",
        "\n",
        "\n",
        "\n",
        "*   Python 3's documentation: https://docs.python.org/3/\n",
        "*   Anaconda's website: for downloading a standalone version of Python (Google Colab is awesome, but not without its faults.  Managing your own private workspace will be essential later on in your career.): https://www.anaconda.com/download/\n",
        "*   r/ProgrammerHumor, for dank memes: https://www.reddit.com/r/ProgrammerHumor/\n",
        "\n",
        "<img src=\"https://i.redd.it/cfkgkauvr8w01.jpg\">\n",
        "\n",
        "Happy coding!\n",
        "\n",
        "*The GPGN268 Teaching Team*\n"
      ]
    },
    {
      "metadata": {
        "colab_type": "code",
        "id": "cB6mZodnA2gQ",
        "colab": {}
      },
      "cell_type": "code",
      "source": [
        ""
      ],
      "execution_count": 0,
      "outputs": []
    }
  ]
}