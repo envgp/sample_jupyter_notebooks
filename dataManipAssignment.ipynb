{
 "cells": [
  {
   "cell_type": "markdown",
   "metadata": {},
   "source": [
    "# Assignment #5: Data Manipulation with NumPy and Basic pyplot\n",
    "----\n",
    "____\n",
    "\n",
    "### Name:                                                  $\\hspace{2.75in}$  Due: February 8, 2018 before 1pm\n",
    "                        \n",
    "\n",
    "The purpose of this assignment is to get you comfortable with acquiring data and writing short python scripts to input and output that data. **Note: all of your work must be reproducible. Your Jupyter notebook will be ran by the grader. ** "
   ]
  },
  {
   "cell_type": "markdown",
   "metadata": {},
   "source": [
    "# Problem 1: Loading in Data\n",
    "---\n",
    "Load in the climate dataset you used for the last assignment (the file I/O homework). Assign each variable to a NumPy Array of type float or string, depending on the contents of the array.  "
   ]
  },
  {
   "cell_type": "code",
   "execution_count": 1,
   "metadata": {},
   "outputs": [],
   "source": [
    "##insert your code here"
   ]
  },
  {
   "cell_type": "markdown",
   "metadata": {},
   "source": [
    "# Problem 2: Inital data plot\n",
    "---\n",
    "Make a clear and concise plot of your non-maniuplated dataset. Include:\n",
    "* Title\n",
    "* X and Y labels\n",
    "* A legend\n",
    "If necessary, make your plot space and labels bigger so they are easy to read.\n",
    "Follow these credentials for all plots in this assignment."
   ]
  },
  {
   "cell_type": "code",
   "execution_count": 2,
   "metadata": {},
   "outputs": [],
   "source": [
    "##insert your code here"
   ]
  },
  {
   "cell_type": "markdown",
   "metadata": {},
   "source": [
    "# Problem 3: Pulling important values from your data\n",
    "---\n",
    "For the dependent variable (e.g. what you plotted on the y-axis), find the biggest and smallest numbers in the array (hint: for the smallest value try `np.amin()`). Then, use `np.where()` to locate where these value lie in the array. Once you have the location of each value, you can find the corresponding value for time. Print your output for the min and max values using something like: \"The largest value is \\____ and it occurs at time \\____\". Do not hard code your values in. Instead, use `%s` like we did in the walkthrough\n",
    "\n",
    "For example:\n",
    "```\n",
    "x=[1,9,12,2,4]\n",
    "t=[1,2,3,4,5]\n",
    "```\n",
    "*find minimium value to be x=12, find minimum to be x=1*\n",
    "```\n",
    "xmax=np.where(x==12)\n",
    "maxTloc=t[xmax]\n",
    "```\n",
    "*print each value* "
   ]
  },
  {
   "cell_type": "code",
   "execution_count": 3,
   "metadata": {},
   "outputs": [],
   "source": [
    "##insert your code here"
   ]
  },
  {
   "cell_type": "markdown",
   "metadata": {},
   "source": [
    "# Problem 4: Percent difference\n",
    "----\n",
    "find the percent difference between your smallest value and your largest value. Print out the result."
   ]
  },
  {
   "cell_type": "code",
   "execution_count": 4,
   "metadata": {},
   "outputs": [],
   "source": [
    "##insert your code here"
   ]
  },
  {
   "cell_type": "markdown",
   "metadata": {},
   "source": [
    "# Problem 5: Array Manipulation\n",
    "----\n",
    "Slice the data in a way that is meaningful for processing. For example, if there is a major event between t=5 and t=10, slice the array so that only those values are displayed. If All of your data is meaningful, slice the array so that you maximum value is in the middle, padded with 50 terms on each side. Make a subplot that includes your initial dataset in one plot, and the sliced array in another plot. "
   ]
  },
  {
   "cell_type": "code",
   "execution_count": 6,
   "metadata": {},
   "outputs": [],
   "source": [
    "##insert your code here"
   ]
  },
  {
   "cell_type": "markdown",
   "metadata": {},
   "source": [
    "# Problem 6: Prediction\n",
    "----\n",
    "Use a data fit (linear or otherwise) to predict a value sometime in the future of your dataset. Print the time of your prediction and your expected value. On one plot, plot the dataset, its fitted curve, and the prediction. For the prediction, make it a dot that is a different color than the dataset and the line. \n",
    "\n",
    "Hint: if you want to use a non-linear fit, checkout the following NumPy [doc](https://docs.scipy.org/doc/numpy-1.13.0/reference/generated/numpy.polyfit.html)\n",
    "\n"
   ]
  },
  {
   "cell_type": "code",
   "execution_count": null,
   "metadata": {},
   "outputs": [],
   "source": [
    "##insert your code here"
   ]
  }
 ],
 "metadata": {
  "kernelspec": {
   "display_name": "Python 3",
   "language": "python",
   "name": "python3"
  },
  "language_info": {
   "codemirror_mode": {
    "name": "ipython",
    "version": 3
   },
   "file_extension": ".py",
   "mimetype": "text/x-python",
   "name": "python",
   "nbconvert_exporter": "python",
   "pygments_lexer": "ipython3",
   "version": "3.7.2"
  }
 },
 "nbformat": 4,
 "nbformat_minor": 2
}
